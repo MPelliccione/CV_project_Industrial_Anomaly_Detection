{
  "nbformat": 4,
  "nbformat_minor": 0,
  "metadata": {
    "colab": {
      "provenance": [],
      "gpuType": "T4",
      "include_colab_link": true
    },
    "kernelspec": {
      "name": "python3",
      "display_name": "Python 3"
    },
    "language_info": {
      "name": "python"
    },
    "accelerator": "GPU"
  },
  "cells": [
    {
      "cell_type": "markdown",
      "metadata": {
        "id": "view-in-github",
        "colab_type": "text"
      },
      "source": [
        "<a href=\"https://colab.research.google.com/github/MPelliccione/CV_project_Industrial_Anomaly_Detection/blob/main/notebooks/planner_and_tests.ipynb\" target=\"_parent\"><img src=\"https://colab.research.google.com/assets/colab-badge.svg\" alt=\"Open In Colab\"/></a>"
      ]
    },
    {
      "cell_type": "markdown",
      "source": [
        "### 1. Setup iniziale (giorni 1–3)\n",
        "\n",
        "\n",
        "*  Studiare Anomalib e testare un pipeline ViT-based predefinita.\n",
        "    \n",
        "*  Scaricare e provare un dataset industriale (es. MVTec AD).\n",
        "\n",
        "# TODO:  entro 09/05/2025\n",
        "- creare GitHub con readme ecc\n",
        "- scaricare il dataset e dividerlo in training, validation e test set (poi aggiustiamo la divisione) classi: bottle,cable, capsule\n",
        "- vedere ed implementare parte di data preparation (vedere il colab degli schiavi) un paio di tecniche\n",
        "\n",
        "\n",
        "\n",
        "\n",
        "\n",
        "### 2. Implementazione di DyT (giorni 4–7)\n",
        "\n",
        "  * Scrivere il layer DynamicTanh come modulo PyTorch.\n",
        "\n",
        "  *  Sostituire i layer di normalizzazione nel ViT con DyT.\n",
        "\n",
        "  * Garantire che il modello sia compatibile con il framework esistente (es. Anomalib).\n",
        "\n",
        "### 3. Esperimenti e confronto (giorni 8–11)\n",
        "\n",
        "  * Allenare il modello modificato (ViT + DyT) sul dataset.\n",
        "\n",
        "  *  Valutare:\n",
        "\n",
        "        Tempo di training/inferenza\n",
        "\n",
        "        Performance\n",
        "\n",
        "   * Allenare anche la versione baseline (ViT + norm standard) o SOTA se poco tempo (?)\n",
        "\n",
        "\n",
        "\n",
        "### 4. Report e presentazione (giorni 12–14)\n",
        "\n",
        "   * Stesura report con: (aka github readme)\n",
        "\n",
        "        Introduzione, metodo, esperimenti\n",
        "\n",
        "        Grafici su runtime e performance\n",
        "\n",
        "        Discussione critica dei risultati\n",
        "\n",
        "   * Realizzare slide/demo per la presentazione\n",
        "\n",
        "   prova update\n"
      ],
      "metadata": {
        "id": "LasYLJb7EPmY"
      }
    },
    {
      "cell_type": "markdown",
      "source": [
        "# Import libraries"
      ],
      "metadata": {
        "id": "o6zVa1TBEPJn"
      }
    },
    {
      "cell_type": "code",
      "execution_count": null,
      "metadata": {
        "id": "Dp7ije-vDETG"
      },
      "outputs": [],
      "source": [
        "import numpy as np\n"
      ]
    },
    {
      "cell_type": "markdown",
      "source": [
        "# Util functions and global vars"
      ],
      "metadata": {
        "id": "XN9eAnaeEks8"
      }
    },
    {
      "cell_type": "code",
      "source": [],
      "metadata": {
        "id": "caQ77oB_EX9U"
      },
      "execution_count": null,
      "outputs": []
    },
    {
      "cell_type": "markdown",
      "source": [
        "# Data preparation"
      ],
      "metadata": {
        "id": "a_NTUzK8ESrM"
      }
    },
    {
      "cell_type": "code",
      "source": [],
      "metadata": {
        "id": "Sz6ssP5zEemP"
      },
      "execution_count": null,
      "outputs": []
    },
    {
      "cell_type": "markdown",
      "source": [
        "# The Network"
      ],
      "metadata": {
        "id": "5k8wK_lmEdwd"
      }
    },
    {
      "cell_type": "code",
      "source": [],
      "metadata": {
        "id": "SVLa-KtoEuKi"
      },
      "execution_count": null,
      "outputs": []
    },
    {
      "cell_type": "code",
      "source": [],
      "metadata": {
        "id": "RxywwgJOE0be"
      },
      "execution_count": null,
      "outputs": []
    },
    {
      "cell_type": "markdown",
      "source": [
        "# Training"
      ],
      "metadata": {
        "id": "jiShlSZNEy4_"
      }
    },
    {
      "cell_type": "code",
      "source": [],
      "metadata": {
        "id": "DUsfYb84E4mz"
      },
      "execution_count": null,
      "outputs": []
    },
    {
      "cell_type": "code",
      "source": [],
      "metadata": {
        "id": "BYfEjrOoE6uQ"
      },
      "execution_count": null,
      "outputs": []
    },
    {
      "cell_type": "markdown",
      "source": [
        "# Evaluation"
      ],
      "metadata": {
        "id": "UFvTFOFVE5ce"
      }
    },
    {
      "cell_type": "code",
      "source": [
        "import torch\n",
        "import torch.nn as nn\n",
        "import torchvision\n",
        "import torchvision.transforms as transforms\n",
        "from torch.utils.data import DataLoader\n",
        "\n",
        "# Hyperparametri\n",
        "IMG_SIZE = 32         # adatto a CIFAR-10\n",
        "PATCH_SIZE = 4\n",
        "NUM_CLASSES = 10\n",
        "DIM = 64\n",
        "DEPTH = 4\n",
        "HEADS = 4\n",
        "MLP_DIM = 128\n",
        "BATCH_SIZE = 64\n",
        "EPOCHES = 10\n",
        "\n",
        "# Preprocessing (patches 4x4 su immagini 32x32 = 64 patches)\n",
        "# transform by resizing and then to tensor\n",
        "transform = transforms.Compose([\n",
        "    transforms.Resize((IMG_SIZE, IMG_SIZE)),\n",
        "    transforms.ToTensor(),\n",
        "])\n",
        "\n",
        "train_data = torchvision.datasets.CIFAR10(root='./data', train=True, download=True, transform=transform)\n",
        "train_loader = DataLoader(train_data, batch_size=BATCH_SIZE, shuffle=True)\n",
        "\n",
        "# DyT\n",
        "\n",
        "\n",
        "# Patch Embedding\n",
        "# define a class to divide the input image into patches and embeds\n",
        "# them into a lower-dimensional space\n",
        "class PatchEmbedding(nn.Module):\n",
        "    def __init__(self, img_size=32, patch_size=4, dim=64):\n",
        "        super().__init__()\n",
        "        self.patch_dim = (patch_size ** 2) * 3\n",
        "        self.num_patches = (img_size // patch_size) ** 2\n",
        "        self.proj = nn.Conv2d(3, dim, kernel_size=patch_size, stride=patch_size)\n",
        "\n",
        "    def forward(self, x):\n",
        "        x = self.proj(x)          # [B, dim, H', W']\n",
        "        x = x.flatten(2)          # [B, dim, N]\n",
        "        x = x.transpose(1, 2)     # [B, N, dim]\n",
        "        return x\n",
        "\n",
        "# 👇 Singolo blocco Transformer\n",
        "# here is applied the normalization\n",
        "class TransformerBlock(nn.Module):\n",
        "    def __init__(self, dim, heads, mlp_dim):\n",
        "        super().__init__()\n",
        "        self.norm1 = nn.LayerNorm(dim)\n",
        "        self.attn = nn.MultiheadAttention(embed_dim=dim, num_heads=heads, batch_first=True)\n",
        "        self.norm2 = nn.LayerNorm(dim)\n",
        "        self.mlp = nn.Sequential(\n",
        "            nn.Linear(dim, mlp_dim),\n",
        "            nn.GELU(),\n",
        "            nn.Linear(mlp_dim, dim)\n",
        "        )\n",
        "\n",
        "    def forward(self, x):\n",
        "        x = x + self.attn(self.norm1(x), self.norm1(x), self.norm1(x))[0]\n",
        "        x = x + self.mlp(self.norm2(x))\n",
        "        return x\n",
        "\n",
        "# ViT completo\n",
        "# here the implementation of the ViT calling all the needed classes\n",
        "class ViT(nn.Module):\n",
        "    def __init__(self, img_size=32, patch_size=4, dim=64, depth=4, heads=4, mlp_dim=128, num_classes=10):\n",
        "        super().__init__()\n",
        "        self.patch_embed = PatchEmbedding(img_size, patch_size, dim)\n",
        "        self.cls_token = nn.Parameter(torch.randn(1, 1, dim))\n",
        "        self.pos_embed = nn.Parameter(torch.randn(1, (img_size // patch_size) ** 2 + 1, dim))\n",
        "\n",
        "        self.transformer = nn.Sequential(*[\n",
        "            TransformerBlock(dim, heads, mlp_dim) for _ in range(depth)\n",
        "        ])\n",
        "\n",
        "        self.mlp_head = nn.Sequential(\n",
        "            nn.LayerNorm(dim),\n",
        "            nn.Linear(dim, num_classes)\n",
        "        )\n",
        "\n",
        "    def forward(self, x):\n",
        "        x = self.patch_embed(x)\n",
        "        b, n, _ = x.shape\n",
        "\n",
        "        cls_tokens = self.cls_token.expand(b, -1, -1)  # [B, 1, dim]\n",
        "        x = torch.cat([cls_tokens, x], dim=1)          # [B, N+1, dim]\n",
        "        x = x + self.pos_embed[:, :x.size(1), :]\n",
        "\n",
        "        x = self.transformer(x)\n",
        "        return self.mlp_head(x[:, 0])  # solo cls token\n",
        "\n",
        "# Inizializza modello e ottimizzatore\n",
        "device = torch.device(\"cuda\" if torch.cuda.is_available() else \"cpu\")\n",
        "model = ViT().to(device)\n",
        "opt = torch.optim.Adam(model.parameters(), lr=3e-4)\n",
        "loss_fn = nn.CrossEntropyLoss()\n",
        "\n",
        "#  Mini training loop (una epoch di esempio)\n",
        "model.train()\n",
        "for epoch in range(EPOCHES):\n",
        "    total_loss = 0\n",
        "    for images, labels in train_loader:\n",
        "\n",
        "      images, labels = images.to(device), labels.to(device)\n",
        "      preds = model(images)\n",
        "      loss = loss_fn(preds, labels)\n",
        "\n",
        "      opt.zero_grad()\n",
        "      loss.backward()\n",
        "      opt.step()\n",
        "      total_loss += loss.item()\n",
        "    print(f\"Epoch {epoch+1} Validation Loss: {total_loss:.4f}\")\n",
        "   # break  # una sola batch per brevità\n"
      ],
      "metadata": {
        "id": "Z0pY8z2lE5ur",
        "colab": {
          "base_uri": "https://localhost:8080/"
        },
        "outputId": "f7146cba-cb68-465f-85ab-ba4392551b44"
      },
      "execution_count": null,
      "outputs": [
        {
          "output_type": "stream",
          "name": "stderr",
          "text": [
            "100%|██████████| 170M/170M [00:04<00:00, 39.7MB/s]\n"
          ]
        },
        {
          "output_type": "stream",
          "name": "stdout",
          "text": [
            "Epoch 1 Validation Loss: 1546.3523\n",
            "Epoch 2 Validation Loss: 1331.2383\n",
            "Epoch 3 Validation Loss: 1218.9838\n",
            "Epoch 4 Validation Loss: 1154.3372\n",
            "Epoch 5 Validation Loss: 1108.3489\n",
            "Epoch 6 Validation Loss: 1068.5549\n",
            "Epoch 7 Validation Loss: 1036.0100\n",
            "Epoch 8 Validation Loss: 1005.7231\n",
            "Epoch 9 Validation Loss: 974.8113\n",
            "Epoch 10 Validation Loss: 952.4681\n"
          ]
        }
      ]
    }
  ]
}